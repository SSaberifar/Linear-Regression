{
 "cells": [
  {
   "cell_type": "code",
   "execution_count": null,
   "metadata": {},
   "outputs": [],
   "source": [
    "import numpy as np"
   ]
  },
  {
   "cell_type": "code",
   "execution_count": null,
   "metadata": {},
   "outputs": [],
   "source": [
    "x_train_data = np.array(range(1,50))\n",
    "y_train_data = np.array(range(1,50))\n",
    "x_predict = np.array(range(1,10))"
   ]
  },
  {
   "cell_type": "code",
   "execution_count": null,
   "metadata": {},
   "outputs": [],
   "source": [
    "class LinearRegresion :\n",
    "    def __init__(self , dr = 0.001 , lr = 0.01 , n_iters = 1000) :\n",
    "        self.dr = dr\n",
    "        self.lr = lr\n",
    "        self.n_iters = n_iters\n",
    "        self.weights = 0\n",
    "        self.bias = 0\n",
    "\n",
    "    def fit(self, x_data , y_data) :\n",
    "         \n",
    "        if len(x_data.shape) == 1 :\n",
    "            x_data = x_data.reshape(-1,1)\n",
    "        \n",
    "        n_data , n_feature  = x_data.shape\n",
    "        self.weights = np.zeros(n_feature)\n",
    "        self.bias = 0\n",
    "\n",
    "        pre = 1e-5\n",
    "        prev_error = 0\n",
    "        for epoch in range(self.n_iters) :\n",
    "            \n",
    "            y_pred = np.dot(x_data , self.weights) + self.bias\n",
    "            dw = np.dot(x_data.T , (y_pred - y_data)) / (n_data)\n",
    "            db = np.sum(y_pred - y_data) / (n_data)\n",
    "            self.lr = self.lr / ( 1 + (self.dr * epoch))\n",
    "\n",
    "            self.weights -=  (self.lr * dw)\n",
    "            self.bias -= (self.lr * db)\n",
    "            \n",
    "            current_error = np.mean( np.square(y_pred - y_data ))\n",
    "\n",
    "            if abs( current_error - prev_error) < pre :\n",
    "                break\n",
    "\n",
    "            prev_error = current_error\n",
    "\n",
    "    def predict(self, x_data) :\n",
    "\n",
    "        if len(x_data.shape) == 1 :\n",
    "            x_data = x_data.reshape(-1,1)\n",
    "        return np.dot(x_data, self.weights) + self.bias"
   ]
  },
  {
   "cell_type": "code",
   "execution_count": null,
   "metadata": {},
   "outputs": [
    {
     "name": "stdout",
     "output_type": "stream",
     "text": [
      "[ 1.05573604  2.05094206  3.04614808  4.0413541   5.03656012  6.03176615\n",
      "  7.02697217  8.02217819  9.01738421 10.01259023 11.00779625 12.00300228\n",
      " 12.9982083  13.99341432 14.98862034 15.98382636 16.97903238 17.97423841\n",
      " 18.96944443 19.96465045 20.95985647 21.95506249 22.95026852 23.94547454]\n"
     ]
    }
   ],
   "source": [
    "modle = LinearRegresion(dr=1e-6,lr=0.0001,n_iters=1000)\n",
    "modle.fit(x_train_data , y_train_data)\n",
    "prediction = modle.predict(x_data=x_predict)\n",
    "print(prediction)"
   ]
  }
 ],
 "metadata": {
  "kernelspec": {
   "display_name": "Python 3",
   "language": "python",
   "name": "python3"
  },
  "language_info": {
   "codemirror_mode": {
    "name": "ipython",
    "version": 3
   },
   "file_extension": ".py",
   "mimetype": "text/x-python",
   "name": "python",
   "nbconvert_exporter": "python",
   "pygments_lexer": "ipython3",
   "version": "3.12.4"
  }
 },
 "nbformat": 4,
 "nbformat_minor": 2
}
